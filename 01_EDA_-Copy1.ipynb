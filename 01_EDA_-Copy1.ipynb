{
 "cells": [
  {
   "cell_type": "markdown",
   "id": "0b0455a7-e8c4-4ae9-a4e2-b7b5cfdf3af2",
   "metadata": {},
   "source": [
    "<div style=\"font-size: 16px; background-color: #ccd5ae;\">\n",
    "    <h1>Exploratory Data Analysis</h1>\n",
    "<div>"
   ]
  },
  {
   "cell_type": "code",
   "execution_count": 1,
   "id": "bb8a9d0b-02a2-4272-9aec-b53ca8626a1e",
   "metadata": {},
   "outputs": [],
   "source": [
    "# Data packages\n",
    "import pandas as pd\n",
    "import numpy as np\n",
    "\n",
    "import seaborn as sns\n",
    "import matplotlib.pyplot as plt\n",
    "import matplotlib.gridspec as gridspec\n",
    "from matplotlib.gridspec import GridSpec\n",
    "import warnings\n",
    "from sklearn import set_config\n",
    "from scripts.utility import print_json\n",
    "from scripts.plot import univariate_plot\n",
    "from sklearn.preprocessing import StandardScaler\n",
    "import constants.constants as plot\n",
    "from scripts.plot import univariate_plot, bivariate_plots, bivariate_gridplot, bivariate_gridplot_alpha, bivariate_gridplot_category"
   ]
  },
  {
   "cell_type": "code",
   "execution_count": null,
   "id": "433f0ace-f24c-4dd6-bd18-4ccc444d65c8",
   "metadata": {},
   "outputs": [],
   "source": []
  }
 ],
 "metadata": {
  "kernelspec": {
   "display_name": "Python 3 (ipykernel)",
   "language": "python",
   "name": "python3"
  },
  "language_info": {
   "codemirror_mode": {
    "name": "ipython",
    "version": 3
   },
   "file_extension": ".py",
   "mimetype": "text/x-python",
   "name": "python",
   "nbconvert_exporter": "python",
   "pygments_lexer": "ipython3",
   "version": "3.11.9"
  }
 },
 "nbformat": 4,
 "nbformat_minor": 5
}
